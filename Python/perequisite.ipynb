{
 "cells": [
  {
   "cell_type": "markdown",
   "id": "b9a10e3e",
   "metadata": {},
   "source": [
    "# PYTHON PEREQUISITES\n",
    "\n",
    "This gives some insight / revision into some Python knowledge needed to embark on the MLOPS journey."
   ]
  },
  {
   "cell_type": "code",
   "execution_count": 1,
   "id": "fd7e4378",
   "metadata": {},
   "outputs": [],
   "source": [
    "# Some Useful Libraries\n",
    "import numpy as np\n",
    "import pandas as pd\n",
    "import matplotlib.pyplot as plt\n",
    "\n",
    "import logging"
   ]
  },
  {
   "cell_type": "markdown",
   "id": "9e91787d",
   "metadata": {},
   "source": [
    "#### PYTHON MESSAGE LOGGING\n",
    "\n",
    "Logging provides a way to track events, errors, and operational information using the Python's built-in logging module that offers a flexible framework for emitting log messages from Python Program."
   ]
  },
  {
   "cell_type": "code",
   "execution_count": 7,
   "id": "aee271c6",
   "metadata": {},
   "outputs": [],
   "source": [
    "# # Configure the basic logging settings\n",
    "# logging.basicConfig(level=logging.DEBUG)\n",
    "\n",
    "\n",
    "# # logging messages with different severity levels\n",
    "# logging.debug(\"This is a debug message\")\n",
    "# logging.info(\"This is a info message\")\n",
    "# logging.warning(\"This is a warning message\")\n",
    "# logging.error(\"This is an error message\")\n",
    "# logging.critical(\"This is a critical message\")\n",
    "# print(\"\\n\")\n"
   ]
  },
  {
   "cell_type": "markdown",
   "id": "6a46f81f",
   "metadata": {},
   "source": [
    "#### IN-DEPTH LOGGING CONFIGURAATION"
   ]
  },
  {
   "cell_type": "code",
   "execution_count": 4,
   "id": "cfea2771",
   "metadata": {},
   "outputs": [
    {
     "name": "stdout",
     "output_type": "stream",
     "text": [
      "\n",
      "\n"
     ]
    }
   ],
   "source": [
    "# Configuration \n",
    "logging.basicConfig(\n",
    "    filename='app.log',\n",
    "    filemode='w',\n",
    "    level=logging.DEBUG,\n",
    "    format='%(asctime)s-%(name)s-%(levelname)s-%(message)s',\n",
    "    datefmt='%d-%m-%Y %H:%M:%S'\n",
    ")\n",
    "\n",
    "# Message to log in 'app.log' file \n",
    "logging.debug(\"This is a debug message\")\n",
    "logging.info(\"This is a info message\")\n",
    "logging.warning(\"This is a warning message\")\n",
    "logging.error(\"This is an error message\")\n",
    "logging.critical(\"This is a critical message\")\n",
    "print(\"\\n\")"
   ]
  },
  {
   "cell_type": "code",
   "execution_count": null,
   "id": "be7e5f71",
   "metadata": {},
   "outputs": [],
   "source": []
  }
 ],
 "metadata": {
  "kernelspec": {
   "display_name": "mlopsenv",
   "language": "python",
   "name": "python3"
  },
  "language_info": {
   "codemirror_mode": {
    "name": "ipython",
    "version": 3
   },
   "file_extension": ".py",
   "mimetype": "text/x-python",
   "name": "python",
   "nbconvert_exporter": "python",
   "pygments_lexer": "ipython3",
   "version": "3.13.2"
  }
 },
 "nbformat": 4,
 "nbformat_minor": 5
}
